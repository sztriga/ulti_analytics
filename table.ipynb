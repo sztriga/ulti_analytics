{
 "cells": [
  {
   "cell_type": "code",
   "execution_count": 1,
   "id": "9b95dd00",
   "metadata": {},
   "outputs": [],
   "source": [
    "from resources.deck import Deck\n",
    "from resources.game_fsm import GameFSM\n",
    "from resources.hand import Hand\n",
    "from resources.stock import Stock"
   ]
  },
  {
   "cell_type": "markdown",
   "id": "7757f2ad-6e62-442b-b32d-38ee3dc3ecb8",
   "metadata": {},
   "source": [
    "**Showcasing Initial Functionality**"
   ]
  },
  {
   "cell_type": "code",
   "execution_count": 2,
   "id": "786f3ece",
   "metadata": {},
   "outputs": [],
   "source": [
    "# Initialize objects\n",
    "deck = Deck()\n",
    "hand1, hand2, hand3 = (Hand(), Hand(), Hand())\n",
    "stock = Stock()\n",
    "\n",
    "# Deal the cards\n",
    "dealt_cards = deck.deal()\n",
    "hand1.pickup_cards(cards=dealt_cards[0])\n",
    "hand2.pickup_cards(cards=dealt_cards[1])\n",
    "hand3.pickup_cards(cards=dealt_cards[2])"
   ]
  },
  {
   "cell_type": "code",
   "execution_count": 3,
   "id": "7753bf21",
   "metadata": {},
   "outputs": [
    {
     "data": {
      "text/html": [
       "<div style=\"display: flex; flex-direction: row; flex-wrap: nowrap;\"><img src=\"resources/card_graphics\\card_piece_PF.jpg\" style=\"width: 100px; margin: 5px;\"><img src=\"resources/card_graphics\\card_piece_PA.jpg\" style=\"width: 100px; margin: 5px;\"><img src=\"resources/card_graphics\\card_piece_P10.jpg\" style=\"width: 100px; margin: 5px;\"><img src=\"resources/card_graphics\\card_piece_P7.jpg\" style=\"width: 100px; margin: 5px;\"><img src=\"resources/card_graphics\\card_piece_ZK.jpg\" style=\"width: 100px; margin: 5px;\"><img src=\"resources/card_graphics\\card_piece_Z10.jpg\" style=\"width: 100px; margin: 5px;\"><img src=\"resources/card_graphics\\card_piece_Z8.jpg\" style=\"width: 100px; margin: 5px;\"><img src=\"resources/card_graphics\\card_piece_MX.jpg\" style=\"width: 100px; margin: 5px;\"><img src=\"resources/card_graphics\\card_piece_MK.jpg\" style=\"width: 100px; margin: 5px;\"><img src=\"resources/card_graphics\\card_piece_M9.jpg\" style=\"width: 100px; margin: 5px;\"></div>"
      ],
      "text/plain": [
       "<IPython.core.display.HTML object>"
      ]
     },
     "metadata": {},
     "output_type": "display_data"
    }
   ],
   "source": [
    "hand1.show()"
   ]
  },
  {
   "cell_type": "code",
   "execution_count": 6,
   "id": "a1329345",
   "metadata": {},
   "outputs": [
    {
     "data": {
      "text/html": [
       "<div style=\"display: flex; flex-direction: row; flex-wrap: nowrap;\"><img src=\"resources/card_graphics\\card_piece_PK.jpg\" style=\"width: 100px; margin: 5px;\"><img src=\"resources/card_graphics\\card_piece_PX.jpg\" style=\"width: 100px; margin: 5px;\"></div>"
      ],
      "text/plain": [
       "<IPython.core.display.HTML object>"
      ]
     },
     "metadata": {},
     "output_type": "display_data"
    }
   ],
   "source": [
    "# Put down stock\n",
    "hand1.put_down_stock(index1=0, index2=1, stock=stock)\n",
    "stock.show()"
   ]
  },
  {
   "cell_type": "code",
   "execution_count": 5,
   "id": "ab3f8317",
   "metadata": {},
   "outputs": [
    {
     "data": {
      "text/plain": [
       "{'0 - 2': 0.47368421052631576, '1 - 1': 0.5263157894736842}"
      ]
     },
     "execution_count": 5,
     "metadata": {},
     "output_type": "execute_result"
    }
   ],
   "source": [
    "# Calculate the distribution probabilities for color \"P\"\n",
    "hand1.calculate_color_probability(\"P\")"
   ]
  },
  {
   "cell_type": "markdown",
   "id": "c219b545-584f-4b86-aece-aabfb4fb911c",
   "metadata": {},
   "source": [
    "**Adding Finite State Machine**"
   ]
  },
  {
   "cell_type": "code",
   "execution_count": null,
   "id": "64852667",
   "metadata": {},
   "outputs": [
    {
     "name": "stdout",
     "output_type": "stream",
     "text": [
      "Starting the Bidding phase...\n",
      "\n",
      "Jimmy's turn to put down two cards into the stock.\n"
     ]
    },
    {
     "data": {
      "text/html": [
       "<div style=\"display: flex; flex-direction: row; flex-wrap: nowrap;\"><img src=\"resources/card_graphics\\card_piece_PX.jpg\" style=\"width: 100px; margin: 5px;\"><img src=\"resources/card_graphics\\card_piece_PK.jpg\" style=\"width: 100px; margin: 5px;\"><img src=\"resources/card_graphics\\card_piece_PF.jpg\" style=\"width: 100px; margin: 5px;\"><img src=\"resources/card_graphics\\card_piece_P10.jpg\" style=\"width: 100px; margin: 5px;\"><img src=\"resources/card_graphics\\card_piece_P9.jpg\" style=\"width: 100px; margin: 5px;\"><img src=\"resources/card_graphics\\card_piece_P7.jpg\" style=\"width: 100px; margin: 5px;\"><img src=\"resources/card_graphics\\card_piece_T10.jpg\" style=\"width: 100px; margin: 5px;\"><img src=\"resources/card_graphics\\card_piece_T9.jpg\" style=\"width: 100px; margin: 5px;\"><img src=\"resources/card_graphics\\card_piece_T8.jpg\" style=\"width: 100px; margin: 5px;\"><img src=\"resources/card_graphics\\card_piece_Z7.jpg\" style=\"width: 100px; margin: 5px;\"><img src=\"resources/card_graphics\\card_piece_MF.jpg\" style=\"width: 100px; margin: 5px;\"><img src=\"resources/card_graphics\\card_piece_M10.jpg\" style=\"width: 100px; margin: 5px;\"></div>"
      ],
      "text/plain": [
       "<IPython.core.display.HTML object>"
      ]
     },
     "metadata": {},
     "output_type": "display_data"
    },
    {
     "name": "stdin",
     "output_type": "stream",
     "text": [
      "Choose the first card index to put down (1-12):  8\n",
      "Choose the second card index to put down (1-12):  10\n"
     ]
    },
    {
     "name": "stdout",
     "output_type": "stream",
     "text": [
      "\n",
      "Current Player: Brian's turn.\n"
     ]
    },
    {
     "data": {
      "text/html": [
       "<div style=\"display: flex; flex-direction: row; flex-wrap: nowrap;\"><img src=\"resources/card_graphics\\card_piece_PA.jpg\" style=\"width: 100px; margin: 5px;\"><img src=\"resources/card_graphics\\card_piece_T7.jpg\" style=\"width: 100px; margin: 5px;\"><img src=\"resources/card_graphics\\card_piece_ZX.jpg\" style=\"width: 100px; margin: 5px;\"><img src=\"resources/card_graphics\\card_piece_ZK.jpg\" style=\"width: 100px; margin: 5px;\"><img src=\"resources/card_graphics\\card_piece_ZA.jpg\" style=\"width: 100px; margin: 5px;\"><img src=\"resources/card_graphics\\card_piece_Z10.jpg\" style=\"width: 100px; margin: 5px;\"><img src=\"resources/card_graphics\\card_piece_Z9.jpg\" style=\"width: 100px; margin: 5px;\"><img src=\"resources/card_graphics\\card_piece_MX.jpg\" style=\"width: 100px; margin: 5px;\"><img src=\"resources/card_graphics\\card_piece_MA.jpg\" style=\"width: 100px; margin: 5px;\"><img src=\"resources/card_graphics\\card_piece_M9.jpg\" style=\"width: 100px; margin: 5px;\"></div>"
      ],
      "text/plain": [
       "<IPython.core.display.HTML object>"
      ]
     },
     "metadata": {},
     "output_type": "display_data"
    }
   ],
   "source": [
    "# Example usage\n",
    "game = GameFSM()\n",
    "game.start_bidding()\n",
    "if game.state == 'play':\n",
    "    game.start_play_phase()"
   ]
  },
  {
   "cell_type": "code",
   "execution_count": null,
   "id": "d7b9ebcd-5f0c-4d31-8b83-2c1f735d59f4",
   "metadata": {},
   "outputs": [],
   "source": []
  }
 ],
 "metadata": {
  "kernelspec": {
   "display_name": "Python 3 (ipykernel)",
   "language": "python",
   "name": "python3"
  },
  "language_info": {
   "codemirror_mode": {
    "name": "ipython",
    "version": 3
   },
   "file_extension": ".py",
   "mimetype": "text/x-python",
   "name": "python",
   "nbconvert_exporter": "python",
   "pygments_lexer": "ipython3",
   "version": "3.12.3"
  }
 },
 "nbformat": 4,
 "nbformat_minor": 5
}
