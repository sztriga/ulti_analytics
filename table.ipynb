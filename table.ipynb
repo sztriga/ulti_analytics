{
 "cells": [
  {
   "cell_type": "code",
   "execution_count": 1,
   "id": "9b95dd00",
   "metadata": {},
   "outputs": [],
   "source": [
    "from resources.deck import Deck\n",
    "from resources.hand import Hand\n",
    "from resources.stock import Stock"
   ]
  },
  {
   "cell_type": "code",
   "execution_count": 2,
   "id": "786f3ece",
   "metadata": {},
   "outputs": [],
   "source": [
    "# Initialize objects\n",
    "deck = Deck()\n",
    "hand1, hand2, hand3 = (Hand(), Hand(), Hand())\n",
    "stock = Stock()\n",
    "\n",
    "# Deal the cards\n",
    "dealt_cards = deck.deal()\n",
    "hand1.pickup_cards(cards=dealt_cards[0])\n",
    "hand2.pickup_cards(cards=dealt_cards[1])\n",
    "hand3.pickup_cards(cards=dealt_cards[2])"
   ]
  },
  {
   "cell_type": "code",
   "execution_count": 3,
   "id": "7753bf21",
   "metadata": {},
   "outputs": [
    {
     "data": {
      "text/html": [
       "<div style=\"display: flex; flex-direction: row; flex-wrap: nowrap;\"><img src=\"resources/card_graphics\\card_piece_PF.jpg\" style=\"width: 100px; margin: 5px;\"><img src=\"resources/card_graphics\\card_piece_PA.jpg\" style=\"width: 100px; margin: 5px;\"><img src=\"resources/card_graphics\\card_piece_P10.jpg\" style=\"width: 100px; margin: 5px;\"><img src=\"resources/card_graphics\\card_piece_P7.jpg\" style=\"width: 100px; margin: 5px;\"><img src=\"resources/card_graphics\\card_piece_ZK.jpg\" style=\"width: 100px; margin: 5px;\"><img src=\"resources/card_graphics\\card_piece_Z10.jpg\" style=\"width: 100px; margin: 5px;\"><img src=\"resources/card_graphics\\card_piece_Z8.jpg\" style=\"width: 100px; margin: 5px;\"><img src=\"resources/card_graphics\\card_piece_MX.jpg\" style=\"width: 100px; margin: 5px;\"><img src=\"resources/card_graphics\\card_piece_MK.jpg\" style=\"width: 100px; margin: 5px;\"><img src=\"resources/card_graphics\\card_piece_M9.jpg\" style=\"width: 100px; margin: 5px;\"></div>"
      ],
      "text/plain": [
       "<IPython.core.display.HTML object>"
      ]
     },
     "metadata": {},
     "output_type": "display_data"
    }
   ],
   "source": [
    "hand1.show()"
   ]
  },
  {
   "cell_type": "code",
   "execution_count": 6,
   "id": "a1329345",
   "metadata": {},
   "outputs": [
    {
     "data": {
      "text/html": [
       "<div style=\"display: flex; flex-direction: row; flex-wrap: nowrap;\"><img src=\"resources/card_graphics\\card_piece_PK.jpg\" style=\"width: 100px; margin: 5px;\"><img src=\"resources/card_graphics\\card_piece_PX.jpg\" style=\"width: 100px; margin: 5px;\"></div>"
      ],
      "text/plain": [
       "<IPython.core.display.HTML object>"
      ]
     },
     "metadata": {},
     "output_type": "display_data"
    }
   ],
   "source": [
    "# Put down stock\n",
    "hand1.put_down_stock(index1=0, index2=1, stock=stock)\n",
    "stock.show()"
   ]
  },
  {
   "cell_type": "code",
   "execution_count": 5,
   "id": "ab3f8317",
   "metadata": {},
   "outputs": [
    {
     "data": {
      "text/plain": [
       "{'0 - 2': 0.47368421052631576, '1 - 1': 0.5263157894736842}"
      ]
     },
     "execution_count": 5,
     "metadata": {},
     "output_type": "execute_result"
    }
   ],
   "source": [
    "# Calculate the distribution probabilities for color \"P\"\n",
    "hand1.calculate_color_probability(\"P\")"
   ]
  },
  {
   "cell_type": "code",
   "execution_count": null,
   "id": "64852667",
   "metadata": {},
   "outputs": [],
   "source": []
  }
 ],
 "metadata": {
  "kernelspec": {
   "display_name": "Python 3 (ipykernel)",
   "language": "python",
   "name": "python3"
  },
  "language_info": {
   "codemirror_mode": {
    "name": "ipython",
    "version": 3
   },
   "file_extension": ".py",
   "mimetype": "text/x-python",
   "name": "python",
   "nbconvert_exporter": "python",
   "pygments_lexer": "ipython3",
   "version": "3.9.7"
  }
 },
 "nbformat": 4,
 "nbformat_minor": 5
}
